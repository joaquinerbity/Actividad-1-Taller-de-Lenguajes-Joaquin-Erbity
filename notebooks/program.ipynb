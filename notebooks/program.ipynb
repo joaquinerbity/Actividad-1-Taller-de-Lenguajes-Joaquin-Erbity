{
 "cells": [
  {
   "cell_type": "markdown",
   "id": "04b35139",
   "metadata": {},
   "source": [
    "Comienzo importando los módulos que armé, como guardé la carpeta notebook dentro de src y no al revés, busqué la manera de que este programa pueda importar sin problemas."
   ]
  },
  {
   "cell_type": "code",
   "execution_count": null,
   "id": "d1660e45",
   "metadata": {},
   "outputs": [],
   "source": [
    "import sys\n",
    "import os\n",
    "\n",
    "# Agregar al path la carpeta \"src\", que está una carpeta por encima\n",
    "sys.path.append(os.path.abspath(\"..\"))\n",
    "\n",
    "# Ahora el import funciona\n",
    "from evaluar import mejor_equipo_ronda\n",
    "from acumular import resetear_valores, inicializar_acumulados, actualizar_acumulados"
   ]
  },
  {
   "cell_type": "markdown",
   "id": "2000b4c9",
   "metadata": {},
   "source": [
    "A continuación, implemento las funciones para resolver la actividad"
   ]
  },
  {
   "cell_type": "code",
   "execution_count": 12,
   "id": "e50ec52f",
   "metadata": {},
   "outputs": [
    {
     "name": "stdout",
     "output_type": "stream",
     "text": [
      "('EquipoA', 6)\n",
      "('EquipoD', 6)\n",
      "('EquipoA', 11)\n",
      "('EquipoC', 10)\n",
      "('EquipoD', 10)\n"
     ]
    }
   ],
   "source": [
    "evaluaciones = [\n",
    " # Ronda 1\n",
    " {\n",
    " 'EquipoA': {'innovacion': 2, 'presentacion': 1, 'errores': True},\n",
    " 'EquipoB': {'innovacion': 1, 'presentacion': 0, 'errores': False},\n",
    " 'EquipoC': {'innovacion': 1, 'presentacion': 2, 'errores': True},\n",
    " 'EquipoD': {'innovacion': 0, 'presentacion': 1, 'errores': False},\n",
    " 'EquipoE': {'innovacion': 1, 'presentacion': 1, 'errores': False}\n",
    " },\n",
    " # Ronda 2\n",
    " {\n",
    " 'EquipoA': {'innovacion': 0, 'presentacion': 2, 'errores': False},\n",
    " 'EquipoB': {'innovacion': 2, 'presentacion': 0, 'errores': True},\n",
    " 'EquipoC': {'innovacion': 1, 'presentacion': 1, 'errores': False},\n",
    " 'EquipoD': {'innovacion': 2, 'presentacion': 1, 'errores': True},\n",
    " 'EquipoE': {'innovacion': 0, 'presentacion': 1, 'errores': False}\n",
    " },\n",
    " # Ronda 3\n",
    " {\n",
    " 'EquipoA': {'innovacion': 3, 'presentacion': 2, 'errores': False},\n",
    " 'EquipoB': {'innovacion': 1, 'presentacion': 1, 'errores': True},\n",
    " 'EquipoC': {'innovacion': 2, 'presentacion': 0, 'errores': False},\n",
    " 'EquipoD': {'innovacion': 1, 'presentacion': 3, 'errores': True},\n",
    " 'EquipoE': {'innovacion': 2, 'presentacion': 2, 'errores': False}\n",
    " },\n",
    " # Ronda 4\n",
    " {\n",
    " 'EquipoA': {'innovacion': 1, 'presentacion': 3, 'errores': True},\n",
    " 'EquipoB': {'innovacion': 2, 'presentacion': 2, 'errores': False},\n",
    " 'EquipoC': {'innovacion': 3, 'presentacion': 1, 'errores': False},\n",
    " 'EquipoD': {'innovacion': 0, 'presentacion': 2, 'errores': True},\n",
    " 'EquipoE': {'innovacion': 2, 'presentacion': 0, 'errores': False}\n",
    " },\n",
    " # Ronda 5\n",
    " {\n",
    " 'EquipoA': {'innovacion': 2, 'presentacion': 2, 'errores': False},\n",
    " 'EquipoB': {'innovacion': 1, 'presentacion': 3, 'errores': True},\n",
    " 'EquipoC': {'innovacion': 0, 'presentacion': 2, 'errores': False},\n",
    " 'EquipoD': {'innovacion': 3, 'presentacion': 1, 'errores': False},\n",
    " 'EquipoE': {'innovacion': 2, 'presentacion': 3, 'errores': True}\n",
    " }\n",
    "]\n",
    "\n",
    "for ronda in evaluaciones:\n",
    "    print(mejor_equipo_ronda(ronda))"
   ]
  }
 ],
 "metadata": {
  "kernelspec": {
   "display_name": "Python 3",
   "language": "python",
   "name": "python3"
  },
  "language_info": {
   "codemirror_mode": {
    "name": "ipython",
    "version": 3
   },
   "file_extension": ".py",
   "mimetype": "text/x-python",
   "name": "python",
   "nbconvert_exporter": "python",
   "pygments_lexer": "ipython3",
   "version": "3.13.2"
  }
 },
 "nbformat": 4,
 "nbformat_minor": 5
}
